{
  "nbformat": 4,
  "nbformat_minor": 0,
  "metadata": {
    "colab": {
      "name": "KMeans.ipynb",
      "provenance": [],
      "collapsed_sections": [],
      "toc_visible": true,
      "authorship_tag": "ABX9TyNbGZ2BLsXn9/GyYGPV7Zcx",
      "include_colab_link": true
    },
    "kernelspec": {
      "name": "python3",
      "display_name": "Python 3"
    }
  },
  "cells": [
    {
      "cell_type": "markdown",
      "metadata": {
        "id": "view-in-github",
        "colab_type": "text"
      },
      "source": [
        "<a href=\"https://colab.research.google.com/github/hvbilla/Python-Deep-Learning-/blob/master/KMeans.ipynb\" target=\"_parent\"><img src=\"https://colab.research.google.com/assets/colab-badge.svg\" alt=\"Open In Colab\"/></a>"
      ]
    },
    {
      "cell_type": "code",
      "metadata": {
        "id": "MpTTEMwTx9sX",
        "colab_type": "code",
        "outputId": "0f385c92-0774-4a04-8b20-935bad3db5cb",
        "colab": {
          "base_uri": "https://localhost:8080/",
          "height": 1000
        }
      },
      "source": [
        "import pandas as pd\n",
        "import numpy as np\n",
        "from sklearn.decomposition import PCA\n",
        "from sklearn.preprocessing import LabelEncoder, StandardScaler\n",
        "import matplotlib.pyplot as plt\n",
        "import seaborn as sns\n",
        "sns.set(style=\"white\", color_codes=True)\n",
        "# import warnings\n",
        "# warnings.filterwarnings(\"ignore\")\n",
        "\n",
        "dataset = pd.read_csv('CC.csv')\n",
        "\n",
        "print(dataset.dtypes)\n",
        "\n",
        "# # splitting the features and class\n",
        "# x = dataset.iloc[:,[2, -5,-6]]\n",
        "x = dataset\n",
        "\n",
        "# see how many samples we have of each species\n",
        "print(dataset[\"TENURE\"].value_counts())\n",
        "\n",
        "## Printing the count of Null values\n",
        "nulls = pd.DataFrame(x.isnull().sum().sort_values(ascending=False)[:25])\n",
        "nulls.columns = ['Null Count']\n",
        "nulls.index.name = 'Feature'\n",
        "print(\"Identifying nulls\",nulls)\n",
        "\n",
        "## Replacing null values with mean values\n",
        "x = x.select_dtypes(include=[np.number]).interpolate().dropna()\n",
        "\n",
        "## Verifying Null values after replacing it with the mean value\n",
        "nulls = pd.DataFrame(x.isnull().sum().sort_values(ascending=False)[:25])\n",
        "nulls.columns = ['Null Count']\n",
        "nulls.index.name = 'Feature'\n",
        "print(\"After Null Replaceing with Mean value:\",nulls)\n",
        "\n",
        "\n",
        "# Building the k-means algorithm\n",
        "from sklearn.cluster import KMeans\n",
        "nclusters = 3 # this is the k in kmeans\n",
        "km = KMeans(n_clusters=nclusters)\n",
        "km.fit(x)\n",
        "\n",
        "# predict the cluster for each data point\n",
        "y_cluster_kmeans = km.predict(x)\n",
        "from sklearn import metrics\n",
        "score = metrics.silhouette_score(x, y_cluster_kmeans)\n",
        "print(\"Silhoutte Score: \" + str(score))\n",
        "\n",
        "# elbow method to know the number of clusters\n",
        "wcss = []\n",
        "for i in range(1,9):\n",
        "    kmeans = KMeans(n_clusters=i,init='k-means++',max_iter=300,n_init=10,random_state=0)\n",
        "    kmeans.fit(x)\n",
        "    wcss.append(kmeans.inertia_)\n",
        "    y_cluster_kmeans2 = km.predict(x)\n",
        "   \n",
        "       \n",
        "plt.plot(range(1,9),wcss)\n",
        "plt.title('the elbow method')\n",
        "plt.xlabel('Number of Clusters')\n",
        "plt.ylabel('Wcss')\n",
        "plt.show()"
      ],
      "execution_count": 0,
      "outputs": [
        {
          "output_type": "stream",
          "text": [
            "12    7584\n",
            "11     365\n",
            "10     236\n",
            "6      204\n",
            "8      196\n",
            "7      190\n",
            "9      175\n",
            "Name: TENURE, dtype: int64\n",
            "Identifying nulls                                   Null Count\n",
            "Feature                                     \n",
            "MINIMUM_PAYMENTS                         313\n",
            "CREDIT_LIMIT                               1\n",
            "TENURE                                     0\n",
            "PURCHASES_FREQUENCY                        0\n",
            "BALANCE                                    0\n",
            "BALANCE_FREQUENCY                          0\n",
            "PURCHASES                                  0\n",
            "ONEOFF_PURCHASES                           0\n",
            "INSTALLMENTS_PURCHASES                     0\n",
            "CASH_ADVANCE                               0\n",
            "ONEOFF_PURCHASES_FREQUENCY                 0\n",
            "PRC_FULL_PAYMENT                           0\n",
            "PURCHASES_INSTALLMENTS_FREQUENCY           0\n",
            "CASH_ADVANCE_FREQUENCY                     0\n",
            "CASH_ADVANCE_TRX                           0\n",
            "PURCHASES_TRX                              0\n",
            "PAYMENTS                                   0\n",
            "CUST_ID                                    0\n",
            "After Null Replaceing with Mean value:                                   Null Count\n",
            "Feature                                     \n",
            "TENURE                                     0\n",
            "ONEOFF_PURCHASES_FREQUENCY                 0\n",
            "BALANCE_FREQUENCY                          0\n",
            "PURCHASES                                  0\n",
            "ONEOFF_PURCHASES                           0\n",
            "INSTALLMENTS_PURCHASES                     0\n",
            "CASH_ADVANCE                               0\n",
            "PURCHASES_FREQUENCY                        0\n",
            "PURCHASES_INSTALLMENTS_FREQUENCY           0\n",
            "PRC_FULL_PAYMENT                           0\n",
            "CASH_ADVANCE_FREQUENCY                     0\n",
            "CASH_ADVANCE_TRX                           0\n",
            "PURCHASES_TRX                              0\n",
            "CREDIT_LIMIT                               0\n",
            "PAYMENTS                                   0\n",
            "MINIMUM_PAYMENTS                           0\n",
            "BALANCE                                    0\n",
            "Silhoutte Score: 0.37700705615302865\n"
          ],
          "name": "stdout"
        },
        {
          "output_type": "display_data",
          "data": {
            "image/png": "[encoded data removed]",
            "text/plain": [
              "<Figure size 432x288 with 1 Axes>"
            ]
          },
          "metadata": {
            "tags": []
          }
        }
      ]
    },
    {
      "cell_type": "markdown",
      "metadata": {
        "id": "KtfRTyJb4lYl",
        "colab_type": "text"
      },
      "source": [
        "# New Section"
      ]
    }
  ]
}